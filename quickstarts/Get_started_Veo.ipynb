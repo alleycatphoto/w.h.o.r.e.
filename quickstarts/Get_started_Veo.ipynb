{
  "cells": [
    {
      "cell_type": "markdown",
      "metadata": {
        "id": "view-in-github",
        "colab_type": "text"
      },
      "source": [
        "<a href=\"https://colab.research.google.com/github/alleycatphoto/w.h.o.r.e./blob/main/quickstarts/Get_started_Veo.ipynb\" target=\"_parent\"><img src=\"https://colab.research.google.com/assets/colab-badge.svg\" alt=\"Open In Colab\"/></a>"
      ]
    },
    {
      "cell_type": "markdown",
      "source": [],
      "metadata": {
        "id": "hkxTz6wUTGXE"
      }
    },
    {
      "cell_type": "markdown",
      "metadata": {
        "id": "0fgOxpmGrOvn"
      },
      "source": [
        "##### Copyright 2025 Google LLC."
      ]
    },
    {
      "cell_type": "code",
      "execution_count": 1,
      "metadata": {
        "cellView": "form",
        "id": "zxdx4xJxrTfP"
      },
      "outputs": [],
      "source": [
        "# @title Licensed under the Apache License, Version 2.0 (the \"License\");\n",
        "# you may not use this file except in compliance with the License.\n",
        "# You may obtain a copy of the License at\n",
        "#\n",
        "# https://www.apache.org/licenses/LICENSE-2.0\n",
        "#\n",
        "# Unless required by applicable law or agreed to in writing, software\n",
        "# distributed under the License is distributed on an \"AS IS\" BASIS,\n",
        "# WITHOUT WARRANTIES OR CONDITIONS OF ANY KIND, either express or implied.\n",
        "# See the License for the specific language governing permissions and\n",
        "# limitations under the License."
      ]
    },
    {
      "cell_type": "markdown",
      "metadata": {
        "id": "Qw6ttkOtrQ_D"
      },
      "source": [
        "# Get started with Video generation using Veo\n",
        "\n",
        "<a target=\"_blank\" href=\"https://colab.research.google.com/github/google-gemini/cookbook/blob/main/quickstarts/Get_started_Veo.ipynb\"><img src=\"https://colab.research.google.com/assets/colab-badge.svg\" height=30/></a>\n",
        "\n",
        "_If you're reading this notebook on Github, open it in Colab by clicking the above button to see the generated videos._"
      ]
    },
    {
      "cell_type": "markdown",
      "metadata": {
        "id": "ZxyWXUYxU4J-"
      },
      "source": [
        "<!-- Princing warning Badge -->\n",
        "<table>\n",
        "  <tr>\n",
        "    <!-- Emoji -->\n",
        "    <td bgcolor=\"#f5949e\">\n",
        "      <font size=30>⚠️</font>\n",
        "    </td>\n",
        "    <!-- Text Content Cell -->\n",
        "    <td bgcolor=\"#f5949e\">\n",
        "      <h3><font color=black>Veo is a paid only feature. It won't run with the Free Tier.<br>  \n",
        "Running all examples in this notebook costs over <strong>10$</strong> (cf. <a href=\"https://ai.google.dev/pricing#veo2\"><font color='#217bfe'>pricing</font></a> for more details).</font></h3>\n",
        "    </td>\n",
        "  </tr>\n",
        "</table>"
      ]
    },
    {
      "cell_type": "code",
      "execution_count": 24,
      "metadata": {
        "id": "B0_quflsUfYj"
      },
      "outputs": [],
      "source": [
        "# Change that value if you want to run the colab\n",
        "I_am_aware_that_veo_is_a_paid_feature_and_am_OK_with_paying_to_run_this_colab = True # @param {type:\"boolean\"}"
      ]
    },
    {
      "cell_type": "markdown",
      "metadata": {
        "id": "uX1mTOHNO2gz"
      },
      "source": [
        "[Veo](https://ai.google.dev/gemini-api/docs/models#veo-2) is our most capable video generation model, designed for high-quality video generation across a wide range of industries and use cases. Targeting creative professionals, marketers, advertisers, and everyday consumers alike, Veo empowers users to create photorealistic videos with incredible detail and far fewer distracting artifacts than our previous models. It generates videos in resolutions up to 720p, opening up new possibilities for storytelling, social sharing, advertising, and more.\n",
        "\n",
        "## Why Veo?\n",
        "* **Highest quality text-to-video model**: Veo generates photorealistic videos with incredible detail, minimal artifacts, and extended durations in resolutions up to 720p.\n",
        "* **Advanced language understanding**: Veo deeply understands natural language and visual semantics, capturing the nuance and tone of complex prompts to render intricate details in extended scenes, including cinematic terms like \"timelapse\" or \"aerial shots.\"\n",
        "* **Unprecedented creative control**: Veo provides an unprecedented level of creative control, understanding prompts for all kinds of cinematic effects, like timelapses or aerial shots of a landscape."
      ]
    },
    {
      "cell_type": "markdown",
      "metadata": {
        "id": "Mfk6YY3G5kqp"
      },
      "source": [
        "## Setup"
      ]
    },
    {
      "cell_type": "markdown",
      "metadata": {
        "id": "d5027929de8f"
      },
      "source": [
        "### Install SDK\n",
        "\n",
        "Install the SDK from [PyPI](https://github.com/googleapis/python-genai)."
      ]
    },
    {
      "cell_type": "code",
      "execution_count": 2,
      "metadata": {
        "id": "46zEFO2a9FFd",
        "colab": {
          "base_uri": "https://localhost:8080/"
        },
        "outputId": "67936f21-3769-4c12-bfb9-f95cee6595af"
      },
      "outputs": [
        {
          "output_type": "stream",
          "name": "stdout",
          "text": [
            "\u001b[?25l   \u001b[90m━━━━━━━━━━━━━━━━━━━━━━━━━━━━━━━━━━━━━━━━\u001b[0m \u001b[32m0.0/199.2 kB\u001b[0m \u001b[31m?\u001b[0m eta \u001b[36m-:--:--\u001b[0m\r\u001b[2K   \u001b[91m━━━━━━━━━━━━━━━━━━━━━━━━━━━━━━━━━━━━━━━\u001b[0m\u001b[90m╺\u001b[0m \u001b[32m194.6/199.2 kB\u001b[0m \u001b[31m6.1 MB/s\u001b[0m eta \u001b[36m0:00:01\u001b[0m\r\u001b[2K   \u001b[90m━━━━━━━━━━━━━━━━━━━━━━━━━━━━━━━━━━━━━━━━\u001b[0m \u001b[32m199.2/199.2 kB\u001b[0m \u001b[31m4.9 MB/s\u001b[0m eta \u001b[36m0:00:00\u001b[0m\n",
            "\u001b[?25h"
          ]
        }
      ],
      "source": [
        "%pip install -U -q \"google-genai>1.8.0\""
      ]
    },
    {
      "cell_type": "markdown",
      "metadata": {
        "id": "CTIfnvCn9HvH"
      },
      "source": [
        "### Setup your API key and initialize client\n",
        "\n",
        "To run the following cell, your API key must be stored it in a Colab Secret named `GOOGLE_API_KEY`. If you don't already have an API key, or you're not sure how to create a Colab Secret, see [Authentication](../quickstarts/Authentication.ipynb) for an example."
      ]
    },
    {
      "cell_type": "code",
      "execution_count": 3,
      "metadata": {
        "id": "A1pkoyZb9Jm3"
      },
      "outputs": [],
      "source": [
        "from google.colab import userdata\n",
        "from google import genai\n",
        "\n",
        "GOOGLE_API_KEY = userdata.get('GOOGLE_API_KEY')\n",
        "client = genai.Client(api_key=GOOGLE_API_KEY)"
      ]
    },
    {
      "cell_type": "markdown",
      "metadata": {
        "id": "MPWt7qVqLTMi"
      },
      "source": [
        "Select the Veo model"
      ]
    },
    {
      "cell_type": "code",
      "execution_count": 26,
      "metadata": {
        "id": "h9edGsbtLSZW"
      },
      "outputs": [],
      "source": [
        "VEO_MODEL_ID = \"veo-2.0-generate-001\" # @param [\"veo-2.0-generate-001\"] {\"allow-input\":true, isTemplate: true}"
      ]
    },
    {
      "cell_type": "markdown",
      "metadata": {
        "id": "NksUQPkf2byh"
      },
      "source": [
        "## Text-to-video\n",
        "\n",
        "Veo is able to generate videos from text prompts (see in the code comments for ideas).\n",
        "\n",
        "### Prompting Tips for Veo\n",
        "To get the most out of Veo, consider incorporating specific video terminology into your prompts  Veo understands a wide range of terms related to:\n",
        "\n",
        "* **Shot composition**: Specify the framing and number of subjects in the shot (e.g., \"*single shot*\", \"*two shot*\", \"*over-the-shoulder shot*\").\n",
        "* **Camera positioning and movement**:  Control the camera's location and movement using terms like \"*eye level*\", \"*high angle*\", \"*worms eye*\", \"*dolly shot*\", \"*zoom shot*\", \"*pan shot,\" and \"*tracking shot*\".\n",
        "* **Focus and lens effects**:  Use terms like \"*shallow focus*\", \"*deep focus*\", \"*soft focus*\", \"*macro lens*\", and \"*wide-angle lens*\" to achieve specific visual effects.\n",
        "* **Overall style and subject**: Guide Veo's creative direction by specifying styles like \"*sci-fi*\", \"*romantic comedy*\", \"*action movie*\" or \"*animation*\". You can also describe the subjects and backgrounds you want, such as \"*cityscape*\", \"*nature*\", \"*vehicles*\", or \"animals.\"\n",
        "\n",
        "Check the [Veo prompt guide](https://ai.google.dev/gemini-api/docs/video/veo-prompt-guide) for more details and tips.\n",
        "\n",
        "### Optional parameters\n",
        "The prompt is the only mandatory parameters, the others are all optional.\n",
        "\n",
        "* **negative_prompt**: What you don't want to see in the video\n",
        "* **person_generation**: Tell you model if it's allowed to generate adults in the videos or not. Children are always blocked.\n",
        "* **aspect_ratio**: Aspect ratio of the video. Accepted values are \"16:9\" (landscape) and \"9:16\" (portrait).\n",
        "* **number_of_videos**: Number of videos generated (1 to 2).\n",
        "* **duration_seconds**: The duration of the video in seconds (5 to 8)\n"
      ]
    },
    {
      "cell_type": "markdown",
      "metadata": {
        "id": "1LVVbZXtmr6b"
      },
      "source": [
        "It takes about a minute for the videos to be generated."
      ]
    },
    {
      "source": [
        "I_am_aware_that_veo_is_a_paid_feature_and_am_OK_with_paying_to_run_this_colab = True # @param {type:\"boolean\"}"
      ],
      "cell_type": "code",
      "metadata": {
        "id": "w2k-yuL0X1k3"
      },
      "execution_count": 3,
      "outputs": []
    },
    {
      "cell_type": "code",
      "execution_count": 32,
      "metadata": {
        "id": "IjInUiB22eqe",
        "colab": {
          "base_uri": "https://localhost:8080/",
          "height": 283
        },
        "outputId": "98c2f5d9-83fd-446f-f980-2702f7e6defc"
      },
      "outputs": [
        {
          "output_type": "stream",
          "name": "stdout",
          "text": [
            "name='models/veo-2.0-generate-001/operations/ahlmss8gond2' metadata=None done=None error=None response=None result=None\n",
            "name='models/veo-2.0-generate-001/operations/ahlmss8gond2' metadata=None done=True error=None response=GenerateVideosResponse(generated_videos=None, rai_media_filtered_count=1, rai_media_filtered_reasons=[\"1 videos were filtered out because they violated Google's Responsible AI practices. You will not be charged for blocked videos. Try rephrasing the prompt. If you think this was an error, send feedback.\"]) result=GenerateVideosResponse(generated_videos=None, rai_media_filtered_count=1, rai_media_filtered_reasons=[\"1 videos were filtered out because they violated Google's Responsible AI practices. You will not be charged for blocked videos. Try rephrasing the prompt. If you think this was an error, send feedback.\"])\n",
            "None\n"
          ]
        },
        {
          "output_type": "error",
          "ename": "TypeError",
          "evalue": "'NoneType' object is not iterable",
          "traceback": [
            "\u001b[0;31m---------------------------------------------------------------------------\u001b[0m",
            "\u001b[0;31mTypeError\u001b[0m                                 Traceback (most recent call last)",
            "\u001b[0;32m<ipython-input-32-a3144f3e5de6>\u001b[0m in \u001b[0;36m<cell line: 0>\u001b[0;34m()\u001b[0m\n\u001b[1;32m     45\u001b[0m   \u001b[0mprint\u001b[0m\u001b[0;34m(\u001b[0m\u001b[0moperation\u001b[0m\u001b[0;34m.\u001b[0m\u001b[0mresult\u001b[0m\u001b[0;34m.\u001b[0m\u001b[0mgenerated_videos\u001b[0m\u001b[0;34m)\u001b[0m\u001b[0;34m\u001b[0m\u001b[0;34m\u001b[0m\u001b[0m\n\u001b[1;32m     46\u001b[0m \u001b[0;34m\u001b[0m\u001b[0m\n\u001b[0;32m---> 47\u001b[0;31m   \u001b[0;32mfor\u001b[0m \u001b[0mn\u001b[0m\u001b[0;34m,\u001b[0m \u001b[0mgenerated_video\u001b[0m \u001b[0;32min\u001b[0m \u001b[0menumerate\u001b[0m\u001b[0;34m(\u001b[0m\u001b[0moperation\u001b[0m\u001b[0;34m.\u001b[0m\u001b[0mresult\u001b[0m\u001b[0;34m.\u001b[0m\u001b[0mgenerated_videos\u001b[0m\u001b[0;34m)\u001b[0m\u001b[0;34m:\u001b[0m\u001b[0;34m\u001b[0m\u001b[0;34m\u001b[0m\u001b[0m\n\u001b[0m\u001b[1;32m     48\u001b[0m     \u001b[0mclient\u001b[0m\u001b[0;34m.\u001b[0m\u001b[0mfiles\u001b[0m\u001b[0;34m.\u001b[0m\u001b[0mdownload\u001b[0m\u001b[0;34m(\u001b[0m\u001b[0mfile\u001b[0m\u001b[0;34m=\u001b[0m\u001b[0mgenerated_video\u001b[0m\u001b[0;34m.\u001b[0m\u001b[0mvideo\u001b[0m\u001b[0;34m)\u001b[0m\u001b[0;34m\u001b[0m\u001b[0;34m\u001b[0m\u001b[0m\n\u001b[1;32m     49\u001b[0m     \u001b[0mgenerated_video\u001b[0m\u001b[0;34m.\u001b[0m\u001b[0mvideo\u001b[0m\u001b[0;34m.\u001b[0m\u001b[0msave\u001b[0m\u001b[0;34m(\u001b[0m\u001b[0;34mf'video{n}.mp4'\u001b[0m\u001b[0;34m)\u001b[0m \u001b[0;31m# Saves the video(s)\u001b[0m\u001b[0;34m\u001b[0m\u001b[0;34m\u001b[0m\u001b[0m\n",
            "\u001b[0;31mTypeError\u001b[0m: 'NoneType' object is not iterable"
          ]
        }
      ],
      "source": [
        "if not I_am_aware_that_veo_is_a_paid_feature_and_am_OK_with_paying_to_run_this_colab:\n",
        "  print(\"Veo is a paid feature. Please change the variable 'I_am_aware_that_veo_is_a_paid_feature_and_am_OK_with_paying_to_run_this_colab' to True if you are okay with paying to run it.\")\n",
        "\n",
        "else:\n",
        "  import time\n",
        "  from google.genai import types\n",
        "  from IPython.display import Video, HTML\n",
        "  VEO_MODEL_ID = \"veo-2.0-generate-001\"\n",
        "  prompt = \"A young woman with light skin and shoulder-length blonde wavy hair is depicted from the chest down in a studio setting against a dark gray background. Her head is tilted downwards, and her eyes are closed. She is wearing a matching black lace strapless top with with sheer panels and matching bottoms. Her arms are slightly outstretched to her sides, with both index fingers pointing downwards towards her pelvic area. Her lips are slightly parted. The lighting is focused on her upper body, creating soft shadows.\" # @param {type: \"string\"}\n",
        "\n",
        "  # Here are a few prompts to help you get started and spark your creativity:\n",
        "  # 1. Wide shot of a futuristic cityscape at dawn. Flying vehicles zip between skyscrapers. Camera pans across the skyline as the sun rises.\n",
        "  # 2. A close up of a thief's gloved hand that reaches for a priceless diamond necklace in a museum display case. Camera slowly tracks the hand, with dramatic lighting and shadows.\n",
        "  # 3. A giant, friendly robot strolls through a field of wildflowers, butterflies fluttering around its head. Camera tilts upwards as the robot looks towards the sky.\n",
        "  # 4. A single, perfectly ripe apple hangs from a branch. It is covered in dew. A gentle breeze sways the branch, causing the apple to rotate slowly.\n",
        "  # 5. A beehive nestled in a hollow tree trunk in a magical forest. Bees fly in and out of the hive, carrying pollen and nectar\n",
        "  # 6. In a beautiful field of flowers, show a cute bunny that is slowly revealed to be an eldritch horror from outside time and space.\n",
        "\n",
        "  # Optional parameters\n",
        "  negative_prompt = \"\" # @param {type: \"string\"}\n",
        "  person_generation = \"allow_adult\"  # @param [\"dont_allow\", \"allow_adult\"]\n",
        "  aspect_ratio = \"16:9\" # @param [\"16:9\", \"9:16\"]\n",
        "  number_of_videos = 1 # @param {type:\"slider\", min:1, max:4, step:1}\n",
        "  duration = 8 # @param {type:\"slider\", min:5, max:8, step:1}\n",
        "\n",
        "  operation = client.models.generate_videos(\n",
        "      model=VEO_MODEL_ID,\n",
        "      prompt=prompt,\n",
        "      config=types.GenerateVideosConfig(\n",
        "        # At the moment the config must not be empty\n",
        "        person_generation=person_generation,\n",
        "        aspect_ratio=aspect_ratio,  # 16:9 or 9:16\n",
        "        number_of_videos=number_of_videos, # supported value is 1-4\n",
        "        negative_prompt=negative_prompt,\n",
        "        duration_seconds=duration, # supported value is 5-8\n",
        "      ),\n",
        "  )\n",
        "\n",
        "  # Waiting for the video(s) to be generated\n",
        "  while not operation.done:\n",
        "      time.sleep(20)\n",
        "      operation = client.operations.get(operation)\n",
        "      print(operation)\n",
        "\n",
        "  print(operation.result.generated_videos)\n",
        "\n",
        "  for n, generated_video in enumerate(operation.result.generated_videos):\n",
        "    client.files.download(file=generated_video.video)\n",
        "    generated_video.video.save(f'video{n}.mp4') # Saves the video(s)\n",
        "    display(generated_video.video.show()) # Displays the video(s) in a notebook"
      ]
    },
    {
      "cell_type": "markdown",
      "metadata": {
        "id": "TfGKClyG-u6t"
      },
      "source": [
        "## Image-to-video\n",
        "\n",
        "You can also generate images from an base image and a prompt. Here are two exemples, one in which you provide the image and one in which you will use Imagen3 to generate it.\n"
      ]
    },
    {
      "cell_type": "markdown",
      "metadata": {
        "id": "1H6Dz7LBNFEF"
      },
      "source": [
        "### Using your own images\n",
        "\n",
        "If you want to use your own image, upload it to colab by clicking on the **folder icon** in the left menu (it should be the 5th choice), then on the **upload icon** (the first one) at the top of left left panel that should have been opened.\n",
        "\n",
        "Your images should be uploaded in the `/content` folder of this colab instance.\n",
        "\n",
        "Or you can also using this code to upload your image:"
      ]
    },
    {
      "cell_type": "code",
      "execution_count": 13,
      "metadata": {
        "id": "piUkifZtGUNn",
        "colab": {
          "base_uri": "https://localhost:8080/",
          "height": 277
        },
        "outputId": "3badcfa8-b07d-475e-c840-696519c61e75"
      },
      "outputs": [
        {
          "output_type": "display_data",
          "data": {
            "text/plain": [
              "<IPython.core.display.HTML object>"
            ],
            "text/html": [
              "\n",
              "     <input type=\"file\" id=\"files-2780de83-0fb8-49f8-b083-c81edb109886\" name=\"files[]\" multiple disabled\n",
              "        style=\"border:none\" />\n",
              "     <output id=\"result-2780de83-0fb8-49f8-b083-c81edb109886\">\n",
              "      Upload widget is only available when the cell has been executed in the\n",
              "      current browser session. Please rerun this cell to enable.\n",
              "      </output>\n",
              "      <script>// Copyright 2017 Google LLC\n",
              "//\n",
              "// Licensed under the Apache License, Version 2.0 (the \"License\");\n",
              "// you may not use this file except in compliance with the License.\n",
              "// You may obtain a copy of the License at\n",
              "//\n",
              "//      http://www.apache.org/licenses/LICENSE-2.0\n",
              "//\n",
              "// Unless required by applicable law or agreed to in writing, software\n",
              "// distributed under the License is distributed on an \"AS IS\" BASIS,\n",
              "// WITHOUT WARRANTIES OR CONDITIONS OF ANY KIND, either express or implied.\n",
              "// See the License for the specific language governing permissions and\n",
              "// limitations under the License.\n",
              "\n",
              "/**\n",
              " * @fileoverview Helpers for google.colab Python module.\n",
              " */\n",
              "(function(scope) {\n",
              "function span(text, styleAttributes = {}) {\n",
              "  const element = document.createElement('span');\n",
              "  element.textContent = text;\n",
              "  for (const key of Object.keys(styleAttributes)) {\n",
              "    element.style[key] = styleAttributes[key];\n",
              "  }\n",
              "  return element;\n",
              "}\n",
              "\n",
              "// Max number of bytes which will be uploaded at a time.\n",
              "const MAX_PAYLOAD_SIZE = 100 * 1024;\n",
              "\n",
              "function _uploadFiles(inputId, outputId) {\n",
              "  const steps = uploadFilesStep(inputId, outputId);\n",
              "  const outputElement = document.getElementById(outputId);\n",
              "  // Cache steps on the outputElement to make it available for the next call\n",
              "  // to uploadFilesContinue from Python.\n",
              "  outputElement.steps = steps;\n",
              "\n",
              "  return _uploadFilesContinue(outputId);\n",
              "}\n",
              "\n",
              "// This is roughly an async generator (not supported in the browser yet),\n",
              "// where there are multiple asynchronous steps and the Python side is going\n",
              "// to poll for completion of each step.\n",
              "// This uses a Promise to block the python side on completion of each step,\n",
              "// then passes the result of the previous step as the input to the next step.\n",
              "function _uploadFilesContinue(outputId) {\n",
              "  const outputElement = document.getElementById(outputId);\n",
              "  const steps = outputElement.steps;\n",
              "\n",
              "  const next = steps.next(outputElement.lastPromiseValue);\n",
              "  return Promise.resolve(next.value.promise).then((value) => {\n",
              "    // Cache the last promise value to make it available to the next\n",
              "    // step of the generator.\n",
              "    outputElement.lastPromiseValue = value;\n",
              "    return next.value.response;\n",
              "  });\n",
              "}\n",
              "\n",
              "/**\n",
              " * Generator function which is called between each async step of the upload\n",
              " * process.\n",
              " * @param {string} inputId Element ID of the input file picker element.\n",
              " * @param {string} outputId Element ID of the output display.\n",
              " * @return {!Iterable<!Object>} Iterable of next steps.\n",
              " */\n",
              "function* uploadFilesStep(inputId, outputId) {\n",
              "  const inputElement = document.getElementById(inputId);\n",
              "  inputElement.disabled = false;\n",
              "\n",
              "  const outputElement = document.getElementById(outputId);\n",
              "  outputElement.innerHTML = '';\n",
              "\n",
              "  const pickedPromise = new Promise((resolve) => {\n",
              "    inputElement.addEventListener('change', (e) => {\n",
              "      resolve(e.target.files);\n",
              "    });\n",
              "  });\n",
              "\n",
              "  const cancel = document.createElement('button');\n",
              "  inputElement.parentElement.appendChild(cancel);\n",
              "  cancel.textContent = 'Cancel upload';\n",
              "  const cancelPromise = new Promise((resolve) => {\n",
              "    cancel.onclick = () => {\n",
              "      resolve(null);\n",
              "    };\n",
              "  });\n",
              "\n",
              "  // Wait for the user to pick the files.\n",
              "  const files = yield {\n",
              "    promise: Promise.race([pickedPromise, cancelPromise]),\n",
              "    response: {\n",
              "      action: 'starting',\n",
              "    }\n",
              "  };\n",
              "\n",
              "  cancel.remove();\n",
              "\n",
              "  // Disable the input element since further picks are not allowed.\n",
              "  inputElement.disabled = true;\n",
              "\n",
              "  if (!files) {\n",
              "    return {\n",
              "      response: {\n",
              "        action: 'complete',\n",
              "      }\n",
              "    };\n",
              "  }\n",
              "\n",
              "  for (const file of files) {\n",
              "    const li = document.createElement('li');\n",
              "    li.append(span(file.name, {fontWeight: 'bold'}));\n",
              "    li.append(span(\n",
              "        `(${file.type || 'n/a'}) - ${file.size} bytes, ` +\n",
              "        `last modified: ${\n",
              "            file.lastModifiedDate ? file.lastModifiedDate.toLocaleDateString() :\n",
              "                                    'n/a'} - `));\n",
              "    const percent = span('0% done');\n",
              "    li.appendChild(percent);\n",
              "\n",
              "    outputElement.appendChild(li);\n",
              "\n",
              "    const fileDataPromise = new Promise((resolve) => {\n",
              "      const reader = new FileReader();\n",
              "      reader.onload = (e) => {\n",
              "        resolve(e.target.result);\n",
              "      };\n",
              "      reader.readAsArrayBuffer(file);\n",
              "    });\n",
              "    // Wait for the data to be ready.\n",
              "    let fileData = yield {\n",
              "      promise: fileDataPromise,\n",
              "      response: {\n",
              "        action: 'continue',\n",
              "      }\n",
              "    };\n",
              "\n",
              "    // Use a chunked sending to avoid message size limits. See b/62115660.\n",
              "    let position = 0;\n",
              "    do {\n",
              "      const length = Math.min(fileData.byteLength - position, MAX_PAYLOAD_SIZE);\n",
              "      const chunk = new Uint8Array(fileData, position, length);\n",
              "      position += length;\n",
              "\n",
              "      const base64 = btoa(String.fromCharCode.apply(null, chunk));\n",
              "      yield {\n",
              "        response: {\n",
              "          action: 'append',\n",
              "          file: file.name,\n",
              "          data: base64,\n",
              "        },\n",
              "      };\n",
              "\n",
              "      let percentDone = fileData.byteLength === 0 ?\n",
              "          100 :\n",
              "          Math.round((position / fileData.byteLength) * 100);\n",
              "      percent.textContent = `${percentDone}% done`;\n",
              "\n",
              "    } while (position < fileData.byteLength);\n",
              "  }\n",
              "\n",
              "  // All done.\n",
              "  yield {\n",
              "    response: {\n",
              "      action: 'complete',\n",
              "    }\n",
              "  };\n",
              "}\n",
              "\n",
              "scope.google = scope.google || {};\n",
              "scope.google.colab = scope.google.colab || {};\n",
              "scope.google.colab._files = {\n",
              "  _uploadFiles,\n",
              "  _uploadFilesContinue,\n",
              "};\n",
              "})(self);\n",
              "</script> "
            ]
          },
          "metadata": {}
        },
        {
          "output_type": "stream",
          "name": "stdout",
          "text": [
            "Saving Generated Image May 29, 2025 - 6_47PM (1).jpeg to Generated Image May 29, 2025 - 6_47PM (1) (1).jpeg\n",
            "Saving Generated Image May 29, 2025 - 6_47PM.jpeg to Generated Image May 29, 2025 - 6_47PM (2).jpeg\n",
            "Saving a_young_caucasian_girl_with_golden_blonde (60).jpeg to a_young_caucasian_girl_with_golden_blonde (60) (1).jpeg\n",
            "Saving a_young_caucasian_girl_with_golden_blonde (59).jpeg to a_young_caucasian_girl_with_golden_blonde (59) (1).jpeg\n",
            "Saving a_young_caucasian_girl_with_golden_blonde (57).jpeg to a_young_caucasian_girl_with_golden_blonde (57) (1).jpeg\n",
            "Saving a_young_caucasian_girl_with_golden_blonde (55).jpeg to a_young_caucasian_girl_with_golden_blonde (55).jpeg\n",
            "Saving a_young_caucasian_girl_with_golden_blonde (50).jpeg to a_young_caucasian_girl_with_golden_blonde (50).jpeg\n"
          ]
        }
      ],
      "source": [
        "import os\n",
        "\n",
        "from google.colab import files\n",
        "\n",
        "uploaded = files.upload()\n",
        "for fn in uploaded.keys():\n",
        "  os.rename(fn, 'image.jpg')"
      ]
    },
    {
      "cell_type": "markdown",
      "metadata": {
        "id": "aXfzEx5qRGwO"
      },
      "source": [
        "Now that you have your own image, you can add it to your Veo prompt.\n",
        "\n",
        "If you don't know what to prompt about your image, keep the prompt empty and the model will figure out what to generate.\n"
      ]
    },
    {
      "cell_type": "code",
      "source": [
        "I_am_aware_that_veo_is_a_paid_feature_and_am_OK_with_paying_to_run_this_colab = True # @param {type:\"boolean\"}"
      ],
      "metadata": {
        "id": "k00KLBvea1l9"
      },
      "execution_count": 6,
      "outputs": []
    },
    {
      "cell_type": "code",
      "execution_count": 34,
      "metadata": {
        "id": "FqFUCWBnRVBH",
        "colab": {
          "base_uri": "https://localhost:8080/",
          "height": 248
        },
        "outputId": "836ac9cc-ca69-4428-938a-df45b77822dd"
      },
      "outputs": [
        {
          "output_type": "stream",
          "name": "stdout",
          "text": [
            "name='models/veo-2.0-generate-001/operations/qdiryd8pclc9' metadata=None done=True error={'code': 3, 'message': \"Veo could not generate videos because the input image violates Gemini API's usage guidelines. If you think this was an error, send feedback.\"} response=None result=None\n"
          ]
        },
        {
          "output_type": "error",
          "ename": "AttributeError",
          "evalue": "'NoneType' object has no attribute 'generated_videos'",
          "traceback": [
            "\u001b[0;31m---------------------------------------------------------------------------\u001b[0m",
            "\u001b[0;31mAttributeError\u001b[0m                            Traceback (most recent call last)",
            "\u001b[0;32m<ipython-input-34-78a67689eddb>\u001b[0m in \u001b[0;36m<cell line: 0>\u001b[0;34m()\u001b[0m\n\u001b[1;32m     50\u001b[0m       \u001b[0mprint\u001b[0m\u001b[0;34m(\u001b[0m\u001b[0moperation\u001b[0m\u001b[0;34m)\u001b[0m\u001b[0;34m\u001b[0m\u001b[0;34m\u001b[0m\u001b[0m\n\u001b[1;32m     51\u001b[0m \u001b[0;34m\u001b[0m\u001b[0m\n\u001b[0;32m---> 52\u001b[0;31m   \u001b[0mprint\u001b[0m\u001b[0;34m(\u001b[0m\u001b[0moperation\u001b[0m\u001b[0;34m.\u001b[0m\u001b[0mresult\u001b[0m\u001b[0;34m.\u001b[0m\u001b[0mgenerated_videos\u001b[0m\u001b[0;34m)\u001b[0m\u001b[0;34m\u001b[0m\u001b[0;34m\u001b[0m\u001b[0m\n\u001b[0m\u001b[1;32m     53\u001b[0m \u001b[0;34m\u001b[0m\u001b[0m\n\u001b[1;32m     54\u001b[0m   \u001b[0;32mfor\u001b[0m \u001b[0mn\u001b[0m\u001b[0;34m,\u001b[0m \u001b[0mgenerated_video\u001b[0m \u001b[0;32min\u001b[0m \u001b[0menumerate\u001b[0m\u001b[0;34m(\u001b[0m\u001b[0moperation\u001b[0m\u001b[0;34m.\u001b[0m\u001b[0mresult\u001b[0m\u001b[0;34m.\u001b[0m\u001b[0mgenerated_videos\u001b[0m\u001b[0;34m)\u001b[0m\u001b[0;34m:\u001b[0m\u001b[0;34m\u001b[0m\u001b[0;34m\u001b[0m\u001b[0m\n",
            "\u001b[0;31mAttributeError\u001b[0m: 'NoneType' object has no attribute 'generated_videos'"
          ]
        }
      ],
      "source": [
        "if not I_am_aware_that_veo_is_a_paid_feature_and_am_OK_with_paying_to_run_this_colab:\n",
        "  print(\"Veo is a paid feature. Please change the variable 'I_am_aware_that_veo_is_a_paid_feature_and_am_OK_with_paying_to_run_this_colab' to True if you are okay with paying to run it.\")\n",
        "\n",
        "else:\n",
        "  import time\n",
        "  from google.genai import types\n",
        "  from IPython.display import Video, HTML\n",
        "  from PIL import Image\n",
        "  import io\n",
        "  from google.colab import userdata\n",
        "  from google import genai\n",
        "  GOOGLE_API_KEY = userdata.get('GOOGLE_API_KEY')\n",
        "  client = genai.Client(api_key=GOOGLE_API_KEY)\n",
        "  prompt = \"\" # @param {\"type\":\"string\",\"placeholder\":\"Write your owm prompt of leave empty to let the model decide\"}\n",
        "  image_name = \"\" # @param {type: \"string\", \"placeholder\":\"Enter the name of your image or leave empty for the one you just uploaded.\"}\n",
        "\n",
        "  # Optional parameters\n",
        "  negative_prompt = \"ugly, low quality\" # @param {type: \"string\"}\n",
        "  aspect_ratio = \"16:9\" # @param [\"16:9\", \"9:16\"]\n",
        "  number_of_videos = 1 # @param {type:\"slider\", min:1, max:4, step:1}\n",
        "  duration = 8 # @param {type:\"slider\", min:5, max:8, step:1}\n",
        "\n",
        "  # Loading the image\n",
        "  if image_name==\"\":\n",
        "    image_name = \"image.jpg\"\n",
        "  im = Image.open(image_name)\n",
        "\n",
        "  # converting the image to bytes\n",
        "  image_bytes_io = io.BytesIO()\n",
        "  im.save(image_bytes_io, format=im.format)\n",
        "  image_bytes = image_bytes_io.getvalue()\n",
        "\n",
        "  operation = client.models.generate_videos(\n",
        "      model=\"veo-2.0-generate-001\",\n",
        "      prompt=prompt,\n",
        "      image=types.Image(image_bytes=image_bytes, mime_type=im.format),\n",
        "      config=types.GenerateVideosConfig(\n",
        "        # At the moment the config must not be empty\n",
        "        aspect_ratio = aspect_ratio,  # 16:9 or 9:16\n",
        "        number_of_videos = number_of_videos, # supported value is 1-4\n",
        "        negative_prompt = negative_prompt,\n",
        "        duration_seconds = duration, # supported value is 5-8\n",
        "      ),\n",
        "  )\n",
        "\n",
        "  # Waiting for the video(s) to be generated\n",
        "  while not operation.done:\n",
        "      time.sleep(20)\n",
        "      operation = client.operations.get(operation)\n",
        "      print(operation)\n",
        "\n",
        "  print(operation.result.generated_videos)\n",
        "\n",
        "  for n, generated_video in enumerate(operation.result.generated_videos):\n",
        "    client.files.download(file=generated_video.video)\n",
        "    generated_video.video.save(f'video{n}.mp4') # Saves the video(s)\n",
        "    display(generated_video.video.show()) # Displays the video(s) in a notebook"
      ]
    },
    {
      "cell_type": "markdown",
      "metadata": {
        "id": "PEii7s0YNUXy"
      },
      "source": [
        "### Using Imagen3 to generate the base image\n",
        "\n",
        "This time you're going to generate a base image with imagen and, when happy with it, create a video out of it.\n",
        "\n",
        "If you want to know more about Imagen, you can check [Imagen notebook](./Get_started_imagen.ipynb) to understand how to use it.\n",
        "\n",
        "<!-- Warning Badge -->\n",
        "<table>\n",
        "  <tr>\n",
        "    <!-- Emoji -->\n",
        "    <td bgcolor=\"#f5949e\">\n",
        "      <font size=30>⚠️</font>\n",
        "    </td>\n",
        "    <!-- Text Content Cell -->\n",
        "    <td bgcolor=\"#f5949e\">\n",
        "      <h3><font color=black>Be careful, Imagen EAP is a paid only feature (cf. <a href=\"https://ai.google.dev/pricing#imagen3\"><font color='#217bfe'>pricing</font></a>). <a href=\"./Image_out.ipynb\"><font color='#217bfe'>Image-out</font></a> is an alternative to Imagen with a free tier.</font></h3>\n",
        "    </td>\n",
        "  </tr>\n",
        "</table>"
      ]
    },
    {
      "cell_type": "code",
      "execution_count": 54,
      "metadata": {
        "id": "m1g68XK19ZBY",
        "colab": {
          "base_uri": "https://localhost:8080/"
        },
        "outputId": "0df877e8-8245-4df0-d021-55320f33e2ca"
      },
      "outputs": [
        {
          "output_type": "stream",
          "name": "stdout",
          "text": [
            "No images were generated. Please check the prompt and API status.\n"
          ]
        }
      ],
      "source": [
        "if not I_am_aware_that_veo_is_a_paid_feature_and_am_OK_with_paying_to_run_this_colab:\n",
        "  print(\"Imagen is a paid feature. Please change the variable 'I_am_aware_that_veo_is_a_paid_feature_and_am_OK_with_paying_to_run_this_colab' to True if you are okay with paying to run it.\")\n",
        "\n",
        "else:\n",
        "  prompt = \"A portrait photograph in a studio setting of a young woman with wavy blonde hair, wearing a delicate black lace bra and matching underwear, looking directly at the camera while gently placing her index fingers on either side of her toned abdomen. The background is a soft, dark gray, putting full focus on the subject and the texture of the lingerie.\"  # @param {type: \"string\"}\n",
        "\n",
        "  # Optional parameters\n",
        "  negative_prompt = \"ugly, low quality, static, weird physics\" # @param {type: \"string\"}\n",
        "  aspect_ratio = \"16:9\" # @param [\"16:9\", \"9:16\"]\n",
        "  number_of_videos = 1 # @param {type:\"slider\", min:1, max:4, step:1}\n",
        "  duration = 8 # @param {type:\"slider\", min:5, max:8, step:1}\n",
        "\n",
        "\n",
        "  result = client.models.generate_images(\n",
        "      model=\"imagen-3.0-generate-002\",\n",
        "      prompt=prompt,\n",
        "      config=types.GenerateImagesConfig(\n",
        "          number_of_images=1,\n",
        "          output_mime_type=\"image/jpeg\",\n",
        "          person_generation=person_generation,\n",
        "          aspect_ratio=aspect_ratio\n",
        "          #negative_prompt=negativePrompt, # negative prompt is curently only supported by Veo\n",
        "      )\n",
        "  )\n",
        "\n",
        " # Check if generated_images is not None before accessing it\n",
        "  if result.generated_images:\n",
        "    result.generated_images[0].image.show()\n",
        "  else:\n",
        "    print(\"No images were generated. Please check the prompt and API status.\")\n"
      ]
    },
    {
      "cell_type": "markdown",
      "metadata": {
        "id": "raT1jxXsOEnF"
      },
      "source": [
        "When you are happy with your image, you can use Veo to make a video out of it."
      ]
    },
    {
      "cell_type": "code",
      "execution_count": 49,
      "metadata": {
        "id": "bcWr0jAPfv0y",
        "colab": {
          "base_uri": "https://localhost:8080/",
          "height": 211
        },
        "outputId": "2ee12bdf-fa89-4582-8779-3d05ded9a217"
      },
      "outputs": [
        {
          "output_type": "error",
          "ename": "TypeError",
          "evalue": "'NoneType' object is not subscriptable",
          "traceback": [
            "\u001b[0;31m---------------------------------------------------------------------------\u001b[0m",
            "\u001b[0;31mTypeError\u001b[0m                                 Traceback (most recent call last)",
            "\u001b[0;32m<ipython-input-49-cea50725ccd3>\u001b[0m in \u001b[0;36m<cell line: 0>\u001b[0;34m()\u001b[0m\n\u001b[1;32m      7\u001b[0m       \u001b[0mprompt\u001b[0m\u001b[0;34m=\u001b[0m\u001b[0mprompt\u001b[0m\u001b[0;34m,\u001b[0m\u001b[0;34m\u001b[0m\u001b[0;34m\u001b[0m\u001b[0m\n\u001b[1;32m      8\u001b[0m       image=types.Image(\n\u001b[0;32m----> 9\u001b[0;31m           \u001b[0mimage_bytes\u001b[0m\u001b[0;34m=\u001b[0m\u001b[0mresult\u001b[0m\u001b[0;34m.\u001b[0m\u001b[0mgenerated_images\u001b[0m\u001b[0;34m[\u001b[0m\u001b[0;36m0\u001b[0m\u001b[0;34m]\u001b[0m\u001b[0;34m.\u001b[0m\u001b[0mimage\u001b[0m\u001b[0;34m.\u001b[0m\u001b[0mimage_bytes\u001b[0m\u001b[0;34m,\u001b[0m\u001b[0;34m\u001b[0m\u001b[0;34m\u001b[0m\u001b[0m\n\u001b[0m\u001b[1;32m     10\u001b[0m           \u001b[0mmime_type\u001b[0m\u001b[0;34m=\u001b[0m\u001b[0;34m\"image/png\"\u001b[0m\u001b[0;34m\u001b[0m\u001b[0;34m\u001b[0m\u001b[0m\n\u001b[1;32m     11\u001b[0m       ),\n",
            "\u001b[0;31mTypeError\u001b[0m: 'NoneType' object is not subscriptable"
          ]
        }
      ],
      "source": [
        "if not I_am_aware_that_veo_is_a_paid_feature_and_am_OK_with_paying_to_run_this_colab:\n",
        "  print(\"Veo is a paid feature. Please change the variable 'I_am_aware_that_veo_is_a_paid_feature_and_am_OK_with_paying_to_run_this_colab' to True if you are okay with paying to run it.\")\n",
        "\n",
        "else:\n",
        "  operation = client.models.generate_videos(\n",
        "      model=\"veo-2.0-generate-001\",\n",
        "      prompt=prompt,\n",
        "      image=types.Image(\n",
        "          image_bytes=result.generated_images[0].image.image_bytes,\n",
        "          mime_type=\"image/png\"\n",
        "      ),\n",
        "      config=types.GenerateVideosConfig(\n",
        "        # At the moment the config must not be empty\n",
        "        aspect_ratio=aspect_ratio,  # 16:9 or 9:16\n",
        "        number_of_videos=number_of_videos, # supported value is 1-2\n",
        "        negative_prompt=negative_prompt,\n",
        "        duration_seconds=duration,\n",
        "      ),\n",
        "  )\n",
        "\n",
        "  # Waiting for the video(s) to be generated\n",
        "  while not operation.done:\n",
        "      time.sleep(20)\n",
        "      operation = client.operations.get(operation)\n",
        "      print(operation)\n",
        "\n",
        "  print(operation.result.generated_videos)\n",
        "\n",
        "  for n, generated_video in enumerate(operation.result.generated_videos):\n",
        "    client.files.download(file=generated_video.video)\n",
        "    generated_video.video.save(f'video{n}.mp4') # Saves the video(s)\n",
        "    display(generated_video.video.show()) # Display the video(s) in a notebook"
      ]
    },
    {
      "cell_type": "code",
      "execution_count": null,
      "metadata": {
        "id": "ouBUcEsHq8KD"
      },
      "outputs": [],
      "source": [
        "# To prevent you from running the notebook by mistake\n",
        "I_am_aware_that_veo_is_a_paid_feature_and_am_OK_with_paying_to_run_this_colab = False"
      ]
    },
    {
      "cell_type": "markdown",
      "metadata": {
        "id": "4677dd58e9b5"
      },
      "source": [
        "## Next Steps\n",
        "### Useful API references:\n",
        "\n",
        "Check the [Veo documentation](https://ai.google.dev/gemini-api/docs/video) and the [prompt guide](https://ai.google.dev/gemini-api/docs/video/veo-prompt-guide) for more details on how to use Veo and best prompt it.\n",
        "\n",
        "### Related examples\n",
        "\n",
        "The [Book illustration](../examples/Book_illustration.ipynb) is a nice example on how to mix Gemini long context window with Imagen and Veo asset generation to illustrated a book.\n",
        "\n",
        "### Continue your discovery of the Gemini API\n",
        "\n",
        "Here are other cool Gemini features that you might find interesting:\n",
        "* [Imagen](./Get_started_Imagen.ipynb) can generate images with fine detail, rich lighting, and few distracting artifact from natural language prompts;\n",
        "* Gemini's [Image-out](./Image-out.ipynb) built-in image output can also generate images and let you iterate on them by chatting with the model;\n",
        "* Built-in [Audio-out](./Audio-out.ipynb) is also a great multimodal output capability that's quite fun to play with."
      ]
    }
  ],
  "metadata": {
    "colab": {
      "name": "Get_started_Veo.ipynb",
      "provenance": [],
      "include_colab_link": true
    },
    "kernelspec": {
      "display_name": "Python 3",
      "name": "python3"
    }
  },
  "nbformat": 4,
  "nbformat_minor": 0
}